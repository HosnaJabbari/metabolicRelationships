{
 "cells": [
  {
   "cell_type": "code",
   "execution_count": null,
   "id": "c8860350-6fd3-4a6a-95d3-d98294bd3614",
   "metadata": {},
   "outputs": [],
   "source": [
    "# adjust model parameters to start from a steady state\n",
    "# update reaction parameters informed by Palla2021\n",
    "# original model from Jahagirdar2019\n"
   ]
  },
  {
   "cell_type": "code",
   "execution_count": 2,
   "id": "c89b0bfd-6cce-48a2-83d3-75c56049ba1b",
   "metadata": {},
   "outputs": [],
   "source": [
    "import pandas as pd\n"
   ]
  },
  {
   "cell_type": "code",
   "execution_count": 6,
   "id": "d7f84e9c-39ee-4a25-8814-bcdbe08fc811",
   "metadata": {},
   "outputs": [
    {
     "data": {
      "text/plain": [
       "0.47214029734652135"
      ]
     },
     "execution_count": 6,
     "metadata": {},
     "output_type": "execute_result"
    }
   ],
   "source": [
    "# step 1: get steady state values for initialization\n",
    "\n",
    "# load steady state samples\n",
    "temp_df = pd.read_csv('/Users/Finn/Documents/MATLAB/healthyBaseline_reduced_90h.csv',\n",
    "                      index_col=0)\n",
    "\n",
    "# get mean values for each metabolite\n",
    "steady_initial_dict = dict(zip(list(temp_df.columns),\n",
    "                               temp_df.values.mean(axis=0)))\n",
    "\n",
    "# example initialization concentration\n",
    "steady_initial_dict['PC']"
   ]
  },
  {
   "cell_type": "code",
   "execution_count": null,
   "id": "e609e332-96cd-4425-add8-d2020de21c61",
   "metadata": {},
   "outputs": [],
   "source": [
    "# step 2: open up AA model and poke around\n",
    "# original model from jahagirdar2019"
   ]
  },
  {
   "cell_type": "code",
   "execution_count": 7,
   "id": "247bd66b-8001-47c9-974c-2c3be5698c45",
   "metadata": {},
   "outputs": [
    {
     "name": "stdout",
     "output_type": "stream",
     "text": [
      "n lines: 12024\n"
     ]
    },
    {
     "data": {
      "text/plain": [
       "['<?xml version=\"1.0\" encoding=\"UTF-8\"?>\\n',\n",
       " '<!-- Created by COPASI version 4.22 (Build 170) on 2018-09-24 14:07 with libSBML version 5.15.3. -->\\n',\n",
       " '<sbml xmlns=\"http://www.sbml.org/sbml/level2/version4\" level=\"2\" version=\"4\">\\n',\n",
       " '  <model metaid=\"COPASI0\" id=\"New_Model\" name=\"New Model\">\\n',\n",
       " '    <annotation>\\n',\n",
       " '      <COPASI xmlns=\"http://www.copasi.org/static/sbml\">\\n',\n",
       " '        <rdf:RDF xmlns:dcterms=\"http://purl.org/dc/terms/\" xmlns:rdf=\"http://www.w3.org/1999/02/22-rdf-syntax-ns#\">\\n',\n",
       " '          <rdf:Description rdf:about=\"#COPASI0\">\\n',\n",
       " '            <dcterms:created>\\n',\n",
       " '              <rdf:Description>\\n',\n",
       " '                <dcterms:W3CDTF>2018-03-26T15:39:07Z</dcterms:W3CDTF>\\n',\n",
       " '              </rdf:Description>\\n',\n",
       " '            </dcterms:created>\\n',\n",
       " '          </rdf:Description>\\n',\n",
       " '        </rdf:RDF>\\n']"
      ]
     },
     "execution_count": 7,
     "metadata": {},
     "output_type": "execute_result"
    }
   ],
   "source": [
    "\n",
    "model_path = '/Users/Finn/Documents/MATLAB/ArachidonicAcid_model.xml'\n",
    "\n",
    "def load_program(path: str) -> list:\n",
    "    # load the program\n",
    "    with open(path,'r') as file:\n",
    "        prog = file.readlines()\n",
    "    return prog\n",
    "\n",
    "prog = load_program(model_path)\n",
    "print('n lines:',len(prog))\n",
    "prog[:15]"
   ]
  },
  {
   "cell_type": "code",
   "execution_count": 16,
   "id": "5baa8c7b-7b04-4142-b14d-fe095b278e06",
   "metadata": {},
   "outputs": [
    {
     "name": "stdout",
     "output_type": "stream",
     "text": [
      "n metabolites found: 83 \n",
      "\n",
      "example line:\n",
      "7595       <species metaid=\"COPASI57\" id=\"d12_PGJ2\" name=\"d12_PGJ2\" compartment=\"compartment\" initialConcentration=\"0\" boundaryCondition=\"false\" constant=\"false\">\n",
      "\n"
     ]
    }
   ],
   "source": [
    "# check that we can identify each metabolite\n",
    "\n",
    "# loop through lines, filter for \"initialConcentration\"\n",
    "# get metabolite\n",
    "# lookup steady state concentration from previous run\n",
    "# replace initial concentration\n",
    "# boost that value?\n",
    "\n",
    "met = 0\n",
    "for idx, _line in enumerate(prog):\n",
    "    if 'initialConcentration' in _line:\n",
    "        met += 1\n",
    "        example_idx = idx\n",
    "        example_line = _line\n",
    "print('n metabolites found:', met, '\\n')\n",
    "\n",
    "print('example line:')\n",
    "print(example_idx, example_line)"
   ]
  },
  {
   "cell_type": "code",
   "execution_count": 17,
   "id": "f4729cfb-ba8d-4b15-8222-99b6f5ade60c",
   "metadata": {},
   "outputs": [],
   "source": [
    "# update the initial concentrations\n",
    "\n",
    "def update_line(line, concentration_dictionary):\n",
    "    \n",
    "    temp_metabolite = line.split('name=\"')[1].split('\"')[0]\n",
    "    temp_conc = line.split('initialConcentration=\"')[1]\n",
    "    temp_steady_value = str(concentration_dictionary[temp_metabolite])\n",
    "    # recombine strings\n",
    "    _end_string = '\"'.join(temp_conc.split('\"')[1:])\n",
    "    _start_string = line.split('initialConcentration=\"')[0] + 'initialConcentration=\"'\n",
    "    return _start_string + temp_steady_value + '\"' + _end_string\n"
   ]
  },
  {
   "cell_type": "code",
   "execution_count": 18,
   "id": "45b1d352-9d42-4444-859a-e169931e6a84",
   "metadata": {},
   "outputs": [],
   "source": [
    "# update all the metabolites to steady state values (\"healthy\" initialization)\n",
    "\n",
    "prog2 = list()\n",
    "for idx, _line in enumerate(prog):\n",
    "    if 'initialConcentration' in _line:\n",
    "        prog2.append(update_line(line = _line,\n",
    "                                 concentration_dictionary=steady_initial_dict\n",
    "                                ))\n",
    "    else:\n",
    "        prog2.append(_line)"
   ]
  },
  {
   "cell_type": "code",
   "execution_count": 19,
   "id": "12e83ebb-8a53-40d6-94ba-e13ee5444884",
   "metadata": {},
   "outputs": [],
   "source": [
    "# save the steady state initial concentrations\n",
    "def save_to_file(some_list, path):\n",
    "    with open(path, \"w\") as file:\n",
    "        for _line in some_list:\n",
    "            file.write(_line)\n",
    "            \n",
    "save_to_file(some_list = prog2,\n",
    "             path = '/Users/Finn/desktop/healthy_model_final.xml')"
   ]
  },
  {
   "cell_type": "code",
   "execution_count": null,
   "id": "5eb41489-e138-4e85-ac35-1e31ad40441b",
   "metadata": {},
   "outputs": [],
   "source": [
    "\n",
    "# specific 15-PGDH enzyme reaction parameters updated in copasi\n",
    "# 1.1.2.5.3   PGE2 -> 15k_PGE2\n",
    "# 1.1.2.4.4   PGD2 -> 15k_PGD2\n"
   ]
  }
 ],
 "metadata": {
  "kernelspec": {
   "display_name": "Python 3 (ipykernel)",
   "language": "python",
   "name": "python3"
  },
  "language_info": {
   "codemirror_mode": {
    "name": "ipython",
    "version": 3
   },
   "file_extension": ".py",
   "mimetype": "text/x-python",
   "name": "python",
   "nbconvert_exporter": "python",
   "pygments_lexer": "ipython3",
   "version": "3.9.7"
  }
 },
 "nbformat": 4,
 "nbformat_minor": 5
}
